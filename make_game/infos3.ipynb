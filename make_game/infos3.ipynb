{
 "cells": [
  {
   "cell_type": "code",
   "execution_count": null,
   "source": [
    "# 00. locate the player to ground\r\n",
    "player_rect = player_surf.get_rect(bottomleft = (80, 300))"
   ],
   "outputs": [],
   "metadata": {}
  },
  {
   "cell_type": "code",
   "execution_count": null,
   "source": [
    "# 01. snail_surface with rectangle\r\n",
    "snail_rect = snail_surface.get_rect(bottomright = (600, 300))\r\n",
    "\r\n",
    "snail_rect.x -= 4\r\n",
    "if snail_rect.right <= 0: snail_rect.left = 800\r\n",
    "win.blit(snail_surface, snail_rect)"
   ],
   "outputs": [],
   "metadata": {}
  },
  {
   "cell_type": "code",
   "execution_count": null,
   "source": [
    "# 02. score_surf with rectangle\r\n",
    "score_surf = my_font.render('SCORE', False, (64, 64, 64))\r\n",
    "score_rect = score_surf.get_rect(center = (400, 50))\r\n",
    "\r\n",
    "pygame.draw.rect(win, '#c0e8ec', score_rect)\r\n",
    "pygame.draw.rect(win, '#c0e8ec', score_rect, 10)\r\n",
    "win.blit(score_surf, score_rect)"
   ],
   "outputs": [],
   "metadata": {}
  },
  {
   "cell_type": "code",
   "execution_count": null,
   "source": [
    "#03. make event loop code for jump\r\n",
    "if event.type == pygame.KEYDOWN: #키를 눌렀을 때, 뗐을 때는 KEYUP\r\n",
    "    if event.key == pygame.K_SPACE:\r\n",
    "        print('점프')\r\n",
    "        \r\n",
    "if event.type == pygame.MOUSEBUTTONDOWN:\r\n",
    "    if event.button == 1:\r\n",
    "        if player_rect.collidepoint(event.pos):\r\n",
    "            print('점프')   "
   ],
   "outputs": [],
   "metadata": {}
  },
  {
   "cell_type": "code",
   "execution_count": null,
   "source": [
    "#04. add gravity\r\n",
    "player_gravity = 0\r\n",
    "\r\n",
    "player_gravity += 1\r\n",
    "player_rect.y += player_gravity"
   ],
   "outputs": [],
   "metadata": {}
  },
  {
   "cell_type": "code",
   "execution_count": null,
   "source": [
    "# 05. event loop re-visit\r\n",
    "if event.type == pygame.KEYDOWN:\r\n",
    "    if event.key == pygame.K_SPACE:\r\n",
    "        player_gravity = -25\r\n",
    "        \r\n",
    "if event.type == pygame.MOUSEBUTTONDOWN:\r\n",
    "    if event.button == 1:\r\n",
    "        if player_rect.collidepoint(event.pos):\r\n",
    "            player_gravity = -25"
   ],
   "outputs": [],
   "metadata": {}
  },
  {
   "cell_type": "code",
   "execution_count": null,
   "source": [
    "#06. set y boundary for the player\r\n",
    "if player_rect.bottom > 300: \r\n",
    "    player_rect.bottom = 300"
   ],
   "outputs": [],
   "metadata": {}
  },
  {
   "cell_type": "code",
   "execution_count": null,
   "source": [
    "#07. player is on the ground - allow to jump\r\n",
    "if player_rect.bottom == 300:"
   ],
   "outputs": [],
   "metadata": {}
  },
  {
   "cell_type": "code",
   "execution_count": null,
   "source": [
    "#08. game over state\r\n",
    "gameActive = True\r\n",
    "\r\n",
    "if gameActive:\r\n",
    "    \r\n",
    "    # collision\r\n",
    "    if snail_rect.colliderect(player_rect):\r\n",
    "        gameActive = False \r\n",
    "\r\n",
    "else:\r\n",
    "    win.fill((94, 129, 162))"
   ],
   "outputs": [],
   "metadata": {}
  },
  {
   "cell_type": "code",
   "execution_count": null,
   "source": [
    "#09. change event loop also\r\n",
    "startTime = 0\r\n",
    "\r\n",
    "if gameActive:\r\n",
    "    # do event check here\r\n",
    "else:\r\n",
    "    if event.type == pygame.KEYDOWN and event.key == pygame.K_SPACE:\r\n",
    "        gameActive = True\r\n",
    "        snail_rect.left = 800\r\n",
    "        startTime = pygame.time.get_ticks()\r\n",
    "        \r\n",
    "if player_rect.colliderect(snail_rect):\r\n",
    "    gameActive = False"
   ],
   "outputs": [],
   "metadata": {}
  },
  {
   "cell_type": "code",
   "execution_count": null,
   "source": [
    "#10. get time for score\r\n",
    "score = 0\r\n",
    "\r\n",
    "def display_score():\r\n",
    "    c_time = int((pygame.time.get_ticks() - startTime)/1000)\r\n",
    "    score_surf = my_font.render(f'SCORE: {c_time}', False, (64, 64, 64))\r\n",
    "    score_rect = score_surf.get_rect(center = (400, 50))\r\n",
    "    win.blit(score_surf, score_rect)\r\n",
    "    return c_time\r\n",
    "\r\n",
    "score = display_score()"
   ],
   "outputs": [],
   "metadata": {}
  },
  {
   "cell_type": "code",
   "execution_count": null,
   "source": [
    "#11. make surface for game over screen\r\n",
    "player_stand = pygame.image.load('graphics/player/player_stand.png').convert_alpha()\r\n",
    "player_stand = pygame.transform.rotozoom(player_stand, 0, 2)\r\n",
    "player_stand_rect = player_stand.get_rect(center = (400, 200))\r\n",
    "\r\n",
    "game_name = my_font.render('Pixel Runner', False, (111, 196, 169))\r\n",
    "game_name_rect = game_name.get_rect(center = (400, 80))\r\n",
    "game_msg = my_font.render('Press space to run', False, (111, 196, 169))\r\n",
    "game_msg_rect = game_msg.get_rect(center = (400, 325))"
   ],
   "outputs": [],
   "metadata": {}
  },
  {
   "cell_type": "code",
   "execution_count": null,
   "source": [
    "#12. blit game over screen\r\n",
    "else:\r\n",
    "    win.fill((94, 129, 162))\r\n",
    "    win.blit(game_name, game_name_rect)\r\n",
    "    win.blit(player_stand, player_stand_rect)\r\n",
    "        \r\n",
    "    score_msg = my_font.render(f'Your score: {score}', False, (111, 196, 169))\r\n",
    "    score_msg_rect = score_msg.get_rect(center = (400, 325))\r\n",
    "    \r\n",
    "    if score > 0: win.blit(score_msg, score_msg_rect)\r\n",
    "    else: win.blit(game_msg, game_msg_rect)"
   ],
   "outputs": [],
   "metadata": {}
  },
  {
   "cell_type": "code",
   "execution_count": null,
   "source": [
    "#13. create a custom timer event\r\n",
    "obstacle_timer = pygame.USEREVENT\r\n",
    "pygame.time.set_timer(obstacle_timer, 1500)\r\n",
    "\r\n",
    "# event loop\r\n",
    "if event.type == obstacle_timer:\r\n",
    "    print('test')"
   ],
   "outputs": [],
   "metadata": {}
  },
  {
   "cell_type": "code",
   "execution_count": null,
   "source": [
    "#14. change snail movement\r\n",
    "from random import randint\r\n",
    "\r\n",
    "# remove snail_rect & collision detection part\r\n",
    "obstacle_rect_list = []\r\n",
    "\r\n",
    "# event loop - gameActive\r\n",
    "if event.type == obstacle_timer:\r\n",
    "    obstacle_rect_list.append(snail_surface.get_rect(bottomright = (randint(900, 1100), 300)))\r\n",
    "\r\n",
    "# define the obstacle movement function\r\n",
    "def obstacle_movement(obs_list):\r\n",
    "    if obs_list:  # list is not null\r\n",
    "        for obs_rect in obs_list:\r\n",
    "            obs_rect.x -= 5\r\n",
    "            win.blit(snail_surface, obs_rect)\r\n",
    "        obs_list = [obst for obst in obs_list if obst.right > 0]\r\n",
    "    return obs_list\r\n",
    "    \r\n",
    "# comment snail movement block\r\n",
    "# obstacle movement - main loop\r\n",
    "obstacle_rect_list = obstacle_movement(obstacle_rect_list)"
   ],
   "outputs": [],
   "metadata": {}
  },
  {
   "cell_type": "code",
   "execution_count": null,
   "source": [
    "#15. add different enemies - fly\r\n",
    "fly_surf = pygame.image.load('graphics/fly/fly1.png').convert_alpha()\r\n",
    "\r\n",
    "if event.type == obstacle_timer and gameActive:\r\n",
    "    if randint(0, 2):\r\n",
    "        obstacle_rect_list.append(snail_surface.get_rect(bottomright = (randint(900, 1100), 300)))\r\n",
    "    else:\r\n",
    "        obstacle_rect_list.append(fly_surf.get_rect(bottomright = (randint(900, 1100), 180)))\r\n",
    "\r\n",
    "def obstacle_movement(obs_list):\r\n",
    "    if obs_list:  # list is not null\r\n",
    "        for obs_rect in obs_list:\r\n",
    "            obs_rect.x -= 5\r\n",
    "            if obs_rect.bottom == 300: win.blit(snail_surface, obs_rect)\r\n",
    "            else: win.blit(fly_surf, obs_rect)\r\n",
    "            \r\n",
    "        obs_list = [obst for obst in obs_list if obst.right > 0]\r\n",
    "    return obs_list"
   ],
   "outputs": [],
   "metadata": {}
  },
  {
   "cell_type": "code",
   "execution_count": null,
   "source": [
    "#16. fix the collision logic\r\n",
    "\r\n",
    "def is_Collide(plyr_rect, ob_rect_list):\r\n",
    "    if ob_rect_list:\r\n",
    "        for obs_rect in ob_rect_list:\r\n",
    "            if plyr_rect.colliderect(obs_rect): return False\r\n",
    "    return True\r\n",
    "\r\n",
    "# main loop\r\n",
    "gameActive = is_Collide(player_rect, obstacle_rect_list)\r\n",
    "\r\n",
    "# game over\r\n",
    "obstacle_rect_list.clear()                "
   ],
   "outputs": [],
   "metadata": {}
  }
 ],
 "metadata": {
  "language_info": {
   "name": "python"
  },
  "orig_nbformat": 4
 },
 "nbformat": 4,
 "nbformat_minor": 2
}