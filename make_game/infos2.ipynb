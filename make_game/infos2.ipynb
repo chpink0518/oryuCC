{
 "cells": [
  {
   "cell_type": "code",
   "execution_count": null,
   "source": [
    "# 01. change icon\r\n",
    "icon = pygame.image.load('graphics/snail_icon.png')\r\n",
    "pygame.display.set_icon(icon)"
   ],
   "outputs": [],
   "metadata": {}
  },
  {
   "cell_type": "code",
   "execution_count": null,
   "source": [
    "# 02. snail\r\n",
    "snail_surface = pygame.image.load('graphics/snail/snail1.png')\r\n",
    "win.blit(snail_surface, (600,250))"
   ],
   "outputs": [],
   "metadata": {}
  },
  {
   "cell_type": "code",
   "execution_count": null,
   "source": [
    "# 03. animate snail\r\n",
    "snail_x_pos = 600"
   ],
   "outputs": [],
   "metadata": {}
  },
  {
   "cell_type": "code",
   "execution_count": null,
   "source": [
    "# 04. animate snail continuously\r\n",
    "if snail_x_pos < -100: snail_x_pos = 800"
   ],
   "outputs": [],
   "metadata": {}
  },
  {
   "cell_type": "code",
   "execution_count": null,
   "source": [
    "# 05. convert image\r\n",
    "sky_surface = pygame.image.load('graphics/Sky.png').convert()"
   ],
   "outputs": [],
   "metadata": {}
  },
  {
   "cell_type": "code",
   "execution_count": null,
   "source": [
    "# 06. convert image + alpha\r\n",
    "snail_surface = pygame.image.load('graphics/snail/snail1.png').convert_alpha()"
   ],
   "outputs": [],
   "metadata": {}
  },
  {
   "cell_type": "code",
   "execution_count": null,
   "source": [
    "# 07. add player_surf\r\n",
    "player_surf = pygame.image.load('graphics/player/player_walk_1.png').convert_alpha()\r\n",
    "win.blit(player_surf, (80,200))"
   ],
   "outputs": [],
   "metadata": {}
  },
  {
   "cell_type": "code",
   "execution_count": null,
   "source": [
    "# 08. player_surf with rectangle\r\n",
    "player_rect = player_surf.get_rect(topleft = (80, 200))\r\n",
    "win.blit(player_surf, player_rect)"
   ],
   "outputs": [],
   "metadata": {}
  },
  {
   "cell_type": "code",
   "execution_count": null,
   "source": [
    "# 09. snail_surface with rectangle\r\n",
    "snail_rect = snail_surface.get_rect(bottomright = (600, 300))\r\n",
    "\r\n",
    "snail_rect.x -= 4\r\n",
    "if snail_rect.right <= 0: snail_rect.left = 800\r\n",
    "\r\n",
    "win.blit(snail_surface, snail_rect)"
   ],
   "outputs": [],
   "metadata": {}
  },
  {
   "cell_type": "code",
   "execution_count": null,
   "source": [
    "# 10. score_surf with rectangle\r\n",
    "score_surf = my_font.render('SCORE', False, (64, 64, 64))\r\n",
    "score_rect = score_surf.get_rect(center = (400, 50))\r\n",
    "\r\n",
    "pygame.draw.rect(win, '#c0e8ec', score_rect)\r\n",
    "pygame.draw.rect(win, '#c0e8ec', score_rect, 10)\r\n",
    "win.blit(score_surf, score_rect)"
   ],
   "outputs": [],
   "metadata": {}
  },
  {
   "cell_type": "code",
   "execution_count": null,
   "source": [
    "#11. make event loop code for jump\r\n",
    "if event.type == pygame.KEYDOWN:\r\n",
    "    if event.key == pygame.K_SPACE:\r\n",
    "        print('점프')\r\n",
    "        \r\n",
    "if event.type == pygame.MOUSEBUTTONDOWN:\r\n",
    "    if player_rect.collidepoint(event.pos):\r\n",
    "        print('점프')       "
   ],
   "outputs": [],
   "metadata": {}
  },
  {
   "cell_type": "code",
   "execution_count": null,
   "source": [
    "#12. add gravity\r\n",
    "player_gravity = 0\r\n",
    "\r\n",
    "player_gravity += 1\r\n",
    "player_rect.y += player_gravity"
   ],
   "outputs": [],
   "metadata": {}
  },
  {
   "cell_type": "code",
   "execution_count": null,
   "source": [
    "# 13. event loop re-visit\r\n",
    "if event.type == pygame.MOUSEBUTTONDOWN:\r\n",
    "    if player_rect.collidepoint(event.pos):\r\n",
    "        player_gravity = -20\r\n",
    "        \r\n",
    "if event.type == pygame.KEYDOWN:\r\n",
    "    if event.key == pygame.K_SPACE:\r\n",
    "        player_gravity = -20"
   ],
   "outputs": [],
   "metadata": {}
  },
  {
   "cell_type": "code",
   "execution_count": null,
   "source": [
    "#14. set y boundary for the player\r\n",
    "if player_rect.bottom > 300: \r\n",
    "    player_rect.bottom = 300"
   ],
   "outputs": [],
   "metadata": {}
  },
  {
   "cell_type": "code",
   "execution_count": null,
   "source": [
    "#15. player only jump once at a time\r\n",
    "player_rect.bottom == 300"
   ],
   "outputs": [],
   "metadata": {}
  }
 ],
 "metadata": {
  "orig_nbformat": 4,
  "language_info": {
   "name": "python"
  }
 },
 "nbformat": 4,
 "nbformat_minor": 2
}