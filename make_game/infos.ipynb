{
 "cells": [
  {
   "cell_type": "code",
   "execution_count": null,
   "source": [
    "# 1. import pygame\r\n",
    "import pygame\r\n",
    "\r\n",
    "# 2. initialize pygame\r\n",
    "pygame.init()"
   ],
   "outputs": [],
   "metadata": {}
  },
  {
   "cell_type": "code",
   "execution_count": null,
   "source": [
    "# 3. creating a window\r\n",
    "screen = pygame.display.set_mode((800, 400))"
   ],
   "outputs": [],
   "metadata": {}
  },
  {
   "cell_type": "code",
   "execution_count": null,
   "source": [
    "# 4. main loop\r\n",
    "while True:\r\n",
    "    pygame.display.update()"
   ],
   "outputs": [],
   "metadata": {}
  },
  {
   "cell_type": "code",
   "execution_count": null,
   "source": [
    "# 5. event handling loop\r\n",
    "for event in pygame.event.get():\r\n",
    "    if event.type == pygame.QUIT:\r\n",
    "        pygame.quit()"
   ],
   "outputs": [],
   "metadata": {}
  },
  {
   "cell_type": "code",
   "execution_count": null,
   "source": [
    "# 6. import exit method from sys\r\n",
    "from sys import exit\r\n",
    "exit()"
   ],
   "outputs": [],
   "metadata": {}
  },
  {
   "cell_type": "code",
   "execution_count": null,
   "source": [
    "# 7. change caption\r\n",
    "pygame.display.set_caption(\"YES의 게임\")"
   ],
   "outputs": [],
   "metadata": {}
  },
  {
   "cell_type": "code",
   "execution_count": null,
   "source": [
    "# 8. Use clock for fps\r\n",
    "clock = pygame.time.Clock()\r\n",
    "clock.tick(60)"
   ],
   "outputs": [],
   "metadata": {}
  },
  {
   "cell_type": "code",
   "execution_count": null,
   "source": [
    "# 9. test surface\r\n",
    "test_surface = pygame.Surface((100, 200))\r\n",
    "test_surface.fill('Red')\r\n",
    "win.blit(test_surface, (0,0))"
   ],
   "outputs": [],
   "metadata": {}
  },
  {
   "cell_type": "code",
   "execution_count": null,
   "source": [
    "# 10. load background image\r\n",
    "sky_surface = pygame.image.load('graphics/Sky.png')\r\n",
    "win.blit(sky_surface, (0,0))"
   ],
   "outputs": [],
   "metadata": {}
  },
  {
   "cell_type": "code",
   "execution_count": null,
   "source": [
    "# 11. draw text\r\n",
    "my_font = pygame.font.Font('font/Pixeltype.ttf', 50)\r\n",
    "text_surface = my_font.render('My game', False, 'Black')\r\n",
    "win.blit(text_surface, (300,50))"
   ],
   "outputs": [],
   "metadata": {}
  },
  {
   "cell_type": "code",
   "execution_count": null,
   "source": [
    "# 12. snail\r\n",
    "snail_surface = pygame.image.load('graphics/snail/snail1.png')\r\n",
    "win.blit(snail_surface, (600,250))"
   ],
   "outputs": [],
   "metadata": {}
  },
  {
   "cell_type": "code",
   "execution_count": null,
   "source": [
    "# 13. animate snail\r\n",
    "snail_x_pos = 600"
   ],
   "outputs": [],
   "metadata": {}
  },
  {
   "cell_type": "code",
   "execution_count": null,
   "source": [
    "# 14. animate snail continuously\r\n",
    "if snail_x_pos < -100: snail_x_pos = 800"
   ],
   "outputs": [],
   "metadata": {}
  },
  {
   "cell_type": "code",
   "execution_count": null,
   "source": [
    "# 15. change icon\r\n",
    "icon = pygame.image.load('graphics/snail_icon.png')\r\n",
    "pygame.display.set_icon(icon)"
   ],
   "outputs": [],
   "metadata": {}
  }
 ],
 "metadata": {
  "orig_nbformat": 4,
  "language_info": {
   "name": "python"
  }
 },
 "nbformat": 4,
 "nbformat_minor": 2
}