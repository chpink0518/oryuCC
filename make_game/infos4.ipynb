{
 "cells": [
  {
   "cell_type": "code",
   "execution_count": null,
   "metadata": {},
   "outputs": [],
   "source": [
    "#01. change event loop also\n",
    "startTime = 0\n",
    "\n",
    "# player jumps only active mode \n",
    "if gameActive:\n",
    "    # do event check here\n",
    "else:\n",
    "    if event.type == pygame.KEYDOWN and event.key == pygame.K_SPACE:\n",
    "        gameActive = True\n",
    "        snail_rect.left = 800\n",
    "        startTime = pygame.time.get_ticks()     # re-start time check\n",
    "        \n",
    "if player_rect.colliderect(snail_rect):\n",
    "    gameActive = False"
   ]
  },
  {
   "cell_type": "code",
   "execution_count": null,
   "metadata": {},
   "outputs": [],
   "source": [
    "#02. get time for score\n",
    "score = 0\n",
    "\n",
    "def display_score():\n",
    "    c_time = int((pygame.time.get_ticks() - startTime)/1000)\n",
    "    score_surf = my_font.render(f'SCORE: {c_time}', False, (64, 64, 64))\n",
    "    score_rect = score_surf.get_rect(center = (400, 50))\n",
    "    win.blit(score_surf, score_rect)\n",
    "    return c_time\n",
    "\n",
    "score = display_score()"
   ]
  },
  {
   "cell_type": "code",
   "execution_count": null,
   "metadata": {},
   "outputs": [],
   "source": [
    "#03. make surface for game over screen\n",
    "player_stand = pygame.image.load('graphics/player/player_stand.png').convert_alpha()\n",
    "player_stand = pygame.transform.rotozoom(player_stand, 0, 2)\n",
    "player_stand_rect = player_stand.get_rect(center = (400, 200))\n",
    "\n",
    "game_msg = my_font.render('Press space to run', False, (111, 196, 169))\n",
    "game_msg_rect = game_msg.get_rect(center = (400, 325))"
   ]
  },
  {
   "cell_type": "code",
   "execution_count": null,
   "metadata": {},
   "outputs": [],
   "source": [
    "#04. blit game over screen\n",
    "else:\n",
    "    win.fill((94, 129, 162))\n",
    "    win.blit(player_stand, player_stand_rect)\n",
    "        \n",
    "    score_msg = my_font.render(f'Your score: {score}', False, (111, 196, 169))\n",
    "    score_msg_rect = score_msg.get_rect(center = (400, 80))\n",
    "    \n",
    "    win.blit(score_msg, score_msg_rect)\n",
    "    win.blit(game_msg, game_msg_rect)"
   ]
  },
  {
   "cell_type": "code",
   "execution_count": null,
   "metadata": {},
   "outputs": [],
   "source": [
    "#05. create a custom timer event\n",
    "enemy_timer = pygame.USEREVENT\n",
    "pygame.time.set_timer(enemy_timer, 1500)\n",
    "\n",
    "# event loop\n",
    "if event.type == enemy_timer:\n",
    "    print('enemy')"
   ]
  },
  {
   "cell_type": "code",
   "execution_count": null,
   "metadata": {},
   "outputs": [],
   "source": [
    "#06. change snail movement\n",
    "from random import randint\n",
    "\n",
    "# remove snail_rect & collision detection part\n",
    "enemy_rect_list = []\n",
    "\n",
    "# event loop - gameActive\n",
    "if event.type == enemy_timer:\n",
    "    enemy_rect_list.append(snail_surface.get_rect(bottomright = (randint(900, 1100), 300)))\n",
    "\n",
    "# define the obstacle movement function\n",
    "def enemy_movement(enmy_rct_list):\n",
    "    if enmy_rct_list:  # list is not null\n",
    "        for enmy_rct in enmy_rct_list:\n",
    "            enmy_rct.x -= 5\n",
    "            win.blit(snail_surface, enmy_rct)\n",
    "        enmy_rct_list = [enmy for enmy in enmy_rct_list if enmy.right > 0]\n",
    "    \n",
    "# comment snail movement block\n",
    "# enemy movement - main loop\n",
    "enemy_movement(enemy_rect_list)"
   ]
  },
  {
   "cell_type": "code",
   "execution_count": null,
   "metadata": {},
   "outputs": [],
   "source": [
    "#07. add different enemies - fly\n",
    "fly_surf = pygame.image.load('graphics/fly/fly1.png').convert_alpha()\n",
    "\n",
    "if event.type == enemy_timer:\n",
    "    if randint(0, 2):\n",
    "        enemy_rect_list.append(snail_surface.get_rect(bottomright = (randint(900, 1100), 300)))\n",
    "    else:\n",
    "        enemy_rect_list.append(fly_surf.get_rect(bottomright = (randint(900, 1100), 180)))\n",
    "\n",
    "def enemy_movement(enmy_rct_list):\n",
    "    if enmy_rct_list:  # list is not null\n",
    "        for enmy_rct in enmy_rct_list:\n",
    "            enmy_rct.x -= 5\n",
    "            if enmy_rct.bottom == 300: win.blit(snail_surface, enmy_rct)\n",
    "            else: win.blit(fly_surf, enmy_rct)\n",
    "            \n",
    "        enmy_rct_list = [enmy for enmy in enmy_rct_list if enmy.right > 0]"
   ]
  },
  {
   "cell_type": "code",
   "execution_count": null,
   "metadata": {},
   "outputs": [],
   "source": [
    "#08. fix the collision logic\n",
    "\n",
    "def isnt_Collide(plyr_rect, enmy_rect_list):\n",
    "    if enmy_rect_list:\n",
    "        for enmy_rect in enmy_rect_list:\n",
    "            if plyr_rect.colliderect(enmy_rect): return False\n",
    "    return True\n",
    "\n",
    "# main loop\n",
    "gameActive = isnt_Collide(player_rect, enemy_rect_list)\n",
    "\n",
    "# game over\n",
    "enemy_rect_list.clear()  "
   ]
  }
 ],
 "metadata": {
  "language_info": {
   "name": "python"
  },
  "orig_nbformat": 4
 },
 "nbformat": 4,
 "nbformat_minor": 2
}
